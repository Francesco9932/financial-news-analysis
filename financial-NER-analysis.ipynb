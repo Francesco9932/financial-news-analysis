{
 "cells": [
  {
   "cell_type": "markdown",
   "metadata": {},
   "source": [
    "# Named Entity Recognition (NER) on Financial-News"
   ]
  },
  {
   "cell_type": "markdown",
   "metadata": {},
   "source": [
    "## Import"
   ]
  },
  {
   "cell_type": "code",
   "execution_count": 2,
   "metadata": {},
   "outputs": [
    {
     "name": "stderr",
     "output_type": "stream",
     "text": [
      "[nltk_data] Downloading package punkt to\n",
      "[nltk_data]     C:\\Users\\stefa\\AppData\\Roaming\\nltk_data...\n",
      "[nltk_data]   Package punkt is already up-to-date!\n"
     ]
    }
   ],
   "source": [
    "from nltk.tokenize import word_tokenize\n",
    "import os\n",
    "from nltk import *\n",
    "import pandas as pd\n",
    "import nltk\n",
    "nltk.download('punkt')\n",
    "from nltk.tag.stanford import StanfordNERTagger\n"
   ]
  },
  {
   "cell_type": "markdown",
   "metadata": {},
   "source": [
    "## Preprocessing dataset"
   ]
  },
  {
   "cell_type": "code",
   "execution_count": 48,
   "metadata": {},
   "outputs": [
    {
     "data": {
      "text/html": [
       "<div>\n",
       "<style scoped>\n",
       "    .dataframe tbody tr th:only-of-type {\n",
       "        vertical-align: middle;\n",
       "    }\n",
       "\n",
       "    .dataframe tbody tr th {\n",
       "        vertical-align: top;\n",
       "    }\n",
       "\n",
       "    .dataframe thead th {\n",
       "        text-align: right;\n",
       "    }\n",
       "</style>\n",
       "<table border=\"1\" class=\"dataframe\">\n",
       "  <thead>\n",
       "    <tr style=\"text-align: right;\">\n",
       "      <th></th>\n",
       "      <th>sentiment</th>\n",
       "      <th>headline</th>\n",
       "    </tr>\n",
       "  </thead>\n",
       "  <tbody>\n",
       "    <tr>\n",
       "      <th>0</th>\n",
       "      <td>neutral</td>\n",
       "      <td>According to Gran , the company has no plans t...</td>\n",
       "    </tr>\n",
       "    <tr>\n",
       "      <th>1</th>\n",
       "      <td>neutral</td>\n",
       "      <td>Technopolis plans to develop in stages an area...</td>\n",
       "    </tr>\n",
       "    <tr>\n",
       "      <th>2</th>\n",
       "      <td>negative</td>\n",
       "      <td>The international electronic industry company ...</td>\n",
       "    </tr>\n",
       "    <tr>\n",
       "      <th>3</th>\n",
       "      <td>positive</td>\n",
       "      <td>With the new production plant the company woul...</td>\n",
       "    </tr>\n",
       "    <tr>\n",
       "      <th>4</th>\n",
       "      <td>positive</td>\n",
       "      <td>According to the company 's updated strategy f...</td>\n",
       "    </tr>\n",
       "  </tbody>\n",
       "</table>\n",
       "</div>"
      ],
      "text/plain": [
       "  sentiment                                           headline\n",
       "0   neutral  According to Gran , the company has no plans t...\n",
       "1   neutral  Technopolis plans to develop in stages an area...\n",
       "2  negative  The international electronic industry company ...\n",
       "3  positive  With the new production plant the company woul...\n",
       "4  positive  According to the company 's updated strategy f..."
      ]
     },
     "execution_count": 48,
     "metadata": {},
     "output_type": "execute_result"
    }
   ],
   "source": [
    "df = pd.read_csv('all-data.csv', encoding=\"latin-1\",\n",
    "                 names=['sentiment', 'headline'])\n",
    "df = df.head(10)\n",
    "df.head()"
   ]
  },
  {
   "cell_type": "code",
   "execution_count": 49,
   "metadata": {},
   "outputs": [
    {
     "name": "stdout",
     "output_type": "stream",
     "text": [
      "original shape:  (10, 2)\n",
      "after drop duplicates shape:  (10, 2)\n",
      "after drop null shape:  (10, 2)\n"
     ]
    }
   ],
   "source": [
    "print(\"original shape: \", df.shape)\n",
    "df = df.drop_duplicates()\n",
    "print(\"after drop duplicates shape: \", df.shape)\n",
    "dd_dn = df.dropna()\n",
    "print(\"after drop null shape: \", df.shape)"
   ]
  },
  {
   "cell_type": "code",
   "execution_count": 50,
   "metadata": {},
   "outputs": [
    {
     "data": {
      "text/plain": [
       "sentiment    0\n",
       "headline     0\n",
       "dtype: int64"
      ]
     },
     "execution_count": 50,
     "metadata": {},
     "output_type": "execute_result"
    }
   ],
   "source": [
    "df.isnull().sum()"
   ]
  },
  {
   "cell_type": "markdown",
   "metadata": {},
   "source": [
    "## Stanford NER"
   ]
  },
  {
   "cell_type": "code",
   "execution_count": 51,
   "metadata": {},
   "outputs": [
    {
     "data": {
      "text/plain": [
       "[('According', 'O'),\n",
       " ('to', 'O'),\n",
       " ('Gran', 'ORGANIZATION'),\n",
       " (',', 'O'),\n",
       " ('the', 'O'),\n",
       " ('company', 'O'),\n",
       " ('has', 'O'),\n",
       " ('no', 'O'),\n",
       " ('plans', 'O'),\n",
       " ('to', 'O'),\n",
       " ('move', 'O'),\n",
       " ('all', 'O'),\n",
       " ('production', 'O'),\n",
       " ('to', 'O'),\n",
       " ('Russia', 'LOCATION'),\n",
       " (',', 'O'),\n",
       " ('although', 'O'),\n",
       " ('that', 'O'),\n",
       " ('is', 'O'),\n",
       " ('where', 'O'),\n",
       " ('the', 'O'),\n",
       " ('company', 'O'),\n",
       " ('is', 'O'),\n",
       " ('growing', 'O')]"
      ]
     },
     "execution_count": 51,
     "metadata": {},
     "output_type": "execute_result"
    }
   ],
   "source": [
    "java_path = \"C:/Program Files/Java/jre-1.8/bin/java.exe\"\n",
    "os.environ['JAVAHOME'] = java_path\n",
    "\n",
    "model = \"C:/Users/stefa/Desktop/financial-news-analysis/stanford-ner/classifiers/english.muc.7class.distsim.crf.ser.gz\"\n",
    "jar = \"C:/Users/stefa/Desktop/financial-news-analysis/stanford-ner/stanford-ner-4.2.0.jar\"\n",
    "\n",
    "ner_tagger = StanfordNERTagger(model, jar, encoding=\"utf-8\")\n",
    "\n",
    "testo = \"According to Gran , the company has no plans to move all production to Russia , although that is where the company is growing\"\n",
    "\n",
    "words = word_tokenize(testo)\n",
    "classified_words = ner_tagger.tag(words)\n",
    "classified_words"
   ]
  },
  {
   "cell_type": "code",
   "execution_count": 53,
   "metadata": {},
   "outputs": [],
   "source": [
    "from itertools import groupby\n",
    "def extract_entities(text):\n",
    "    tokenized_text = word_tokenize(text)\n",
    "    classified_text = ner_tagger.tag(tokenized_text)\n",
    "\n",
    "    entities = []\n",
    "    labels = []\n",
    "    for tag, chunk in groupby(classified_text, lambda x: x[1]):\n",
    "        if tag != \"O\":\n",
    "            s = ' '.join(w for w, t in chunk)\n",
    "            s = s + \"-\" + tag\n",
    "            entities.append(s)\n",
    "            labels.append(tag)\n",
    "    return entities\n",
    "\n",
    "\n",
    "# Apply the entity extraction function to each row of the DataFrame\n",
    "df['entities'] = df['headline'].apply(extract_entities)"
   ]
  },
  {
   "cell_type": "code",
   "execution_count": 55,
   "metadata": {},
   "outputs": [
    {
     "data": {
      "text/html": [
       "<div>\n",
       "<style scoped>\n",
       "    .dataframe tbody tr th:only-of-type {\n",
       "        vertical-align: middle;\n",
       "    }\n",
       "\n",
       "    .dataframe tbody tr th {\n",
       "        vertical-align: top;\n",
       "    }\n",
       "\n",
       "    .dataframe thead th {\n",
       "        text-align: right;\n",
       "    }\n",
       "</style>\n",
       "<table border=\"1\" class=\"dataframe\">\n",
       "  <thead>\n",
       "    <tr style=\"text-align: right;\">\n",
       "      <th></th>\n",
       "      <th>sentiment</th>\n",
       "      <th>headline</th>\n",
       "      <th>entities</th>\n",
       "    </tr>\n",
       "  </thead>\n",
       "  <tbody>\n",
       "    <tr>\n",
       "      <th>0</th>\n",
       "      <td>neutral</td>\n",
       "      <td>According to Gran , the company has no plans t...</td>\n",
       "      <td>[Gran-ORGANIZATION, Russia-LOCATION]</td>\n",
       "    </tr>\n",
       "    <tr>\n",
       "      <th>1</th>\n",
       "      <td>neutral</td>\n",
       "      <td>Technopolis plans to develop in stages an area...</td>\n",
       "      <td>[]</td>\n",
       "    </tr>\n",
       "    <tr>\n",
       "      <th>2</th>\n",
       "      <td>negative</td>\n",
       "      <td>The international electronic industry company ...</td>\n",
       "      <td>[Elcoteq-ORGANIZATION, Tallinn-LOCATION]</td>\n",
       "    </tr>\n",
       "    <tr>\n",
       "      <th>3</th>\n",
       "      <td>positive</td>\n",
       "      <td>With the new production plant the company woul...</td>\n",
       "      <td>[]</td>\n",
       "    </tr>\n",
       "    <tr>\n",
       "      <th>4</th>\n",
       "      <td>positive</td>\n",
       "      <td>According to the company 's updated strategy f...</td>\n",
       "      <td>[20 % -40 %-PERCENT, 10 % -20 %-PERCENT]</td>\n",
       "    </tr>\n",
       "    <tr>\n",
       "      <th>5</th>\n",
       "      <td>positive</td>\n",
       "      <td>FINANCING OF ASPOCOMP 'S GROWTH Aspocomp is ag...</td>\n",
       "      <td>[]</td>\n",
       "    </tr>\n",
       "    <tr>\n",
       "      <th>6</th>\n",
       "      <td>positive</td>\n",
       "      <td>For the last quarter of 2010 , Componenta 's n...</td>\n",
       "      <td>[last quarter of 2010-DATE, Componenta-ORGANIZ...</td>\n",
       "    </tr>\n",
       "    <tr>\n",
       "      <th>7</th>\n",
       "      <td>positive</td>\n",
       "      <td>In the third quarter of 2010 , net sales incre...</td>\n",
       "      <td>[third quarter of 2010-DATE, 5.2 %-PERCENT, 34...</td>\n",
       "    </tr>\n",
       "    <tr>\n",
       "      <th>8</th>\n",
       "      <td>positive</td>\n",
       "      <td>Operating profit rose to EUR 13.1 mn from EUR ...</td>\n",
       "      <td>[EUR-ORGANIZATION, EUR-ORGANIZATION, 2007-DATE...</td>\n",
       "    </tr>\n",
       "    <tr>\n",
       "      <th>9</th>\n",
       "      <td>positive</td>\n",
       "      <td>Operating profit totalled EUR 21.1 mn , up fro...</td>\n",
       "      <td>[EUR-ORGANIZATION, 2007-DATE, 9.7 %-PERCENT]</td>\n",
       "    </tr>\n",
       "  </tbody>\n",
       "</table>\n",
       "</div>"
      ],
      "text/plain": [
       "  sentiment                                           headline   \n",
       "0   neutral  According to Gran , the company has no plans t...  \\\n",
       "1   neutral  Technopolis plans to develop in stages an area...   \n",
       "2  negative  The international electronic industry company ...   \n",
       "3  positive  With the new production plant the company woul...   \n",
       "4  positive  According to the company 's updated strategy f...   \n",
       "5  positive  FINANCING OF ASPOCOMP 'S GROWTH Aspocomp is ag...   \n",
       "6  positive  For the last quarter of 2010 , Componenta 's n...   \n",
       "7  positive  In the third quarter of 2010 , net sales incre...   \n",
       "8  positive  Operating profit rose to EUR 13.1 mn from EUR ...   \n",
       "9  positive  Operating profit totalled EUR 21.1 mn , up fro...   \n",
       "\n",
       "                                            entities  \n",
       "0               [Gran-ORGANIZATION, Russia-LOCATION]  \n",
       "1                                                 []  \n",
       "2           [Elcoteq-ORGANIZATION, Tallinn-LOCATION]  \n",
       "3                                                 []  \n",
       "4           [20 % -40 %-PERCENT, 10 % -20 %-PERCENT]  \n",
       "5                                                 []  \n",
       "6  [last quarter of 2010-DATE, Componenta-ORGANIZ...  \n",
       "7  [third quarter of 2010-DATE, 5.2 %-PERCENT, 34...  \n",
       "8  [EUR-ORGANIZATION, EUR-ORGANIZATION, 2007-DATE...  \n",
       "9       [EUR-ORGANIZATION, 2007-DATE, 9.7 %-PERCENT]  "
      ]
     },
     "execution_count": 55,
     "metadata": {},
     "output_type": "execute_result"
    }
   ],
   "source": [
    "df.head(10)"
   ]
  }
 ],
 "metadata": {
  "kernelspec": {
   "display_name": "Python 3",
   "language": "python",
   "name": "python3"
  },
  "language_info": {
   "codemirror_mode": {
    "name": "ipython",
    "version": 3
   },
   "file_extension": ".py",
   "mimetype": "text/x-python",
   "name": "python",
   "nbconvert_exporter": "python",
   "pygments_lexer": "ipython3",
   "version": "3.10.11"
  },
  "orig_nbformat": 4
 },
 "nbformat": 4,
 "nbformat_minor": 2
}

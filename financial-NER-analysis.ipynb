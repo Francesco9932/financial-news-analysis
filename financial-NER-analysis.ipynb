{
 "cells": [
  {
   "cell_type": "markdown",
   "metadata": {},
   "source": [
    "# Named Entity Recognition (NER) on Financial-News"
   ]
  },
  {
   "cell_type": "markdown",
   "metadata": {},
   "source": [
    "## Import"
   ]
  },
  {
   "cell_type": "code",
   "execution_count": 13,
   "metadata": {},
   "outputs": [
    {
     "name": "stderr",
     "output_type": "stream",
     "text": [
      "[nltk_data] Downloading package punkt to\n",
      "[nltk_data]     C:\\Users\\stefa\\AppData\\Roaming\\nltk_data...\n",
      "[nltk_data]   Package punkt is already up-to-date!\n"
     ]
    }
   ],
   "source": [
    "from nltk.tokenize import word_tokenize\n",
    "import os\n",
    "from nltk import *\n",
    "import pandas as pd\n",
    "import nltk\n",
    "nltk.download('punkt')\n",
    "from nltk.tag.stanford import StanfordNERTagger\n"
   ]
  },
  {
   "cell_type": "markdown",
   "metadata": {},
   "source": [
    "## Preprocessing dataset"
   ]
  },
  {
   "cell_type": "code",
   "execution_count": 59,
   "metadata": {},
   "outputs": [
    {
     "data": {
      "text/plain": [
       "0    According to Gran , the company has no plans t...\n",
       "1    Technopolis plans to develop in stages an area...\n",
       "2    The international electronic industry company ...\n",
       "3    With the new production plant the company woul...\n",
       "4    According to the company 's updated strategy f...\n",
       "Name: headline, dtype: object"
      ]
     },
     "execution_count": 59,
     "metadata": {},
     "output_type": "execute_result"
    }
   ],
   "source": [
    "df = pd.read_csv('all-data.csv', encoding=\"latin-1\",\n",
    "                 names=['sentiment', 'headline'])\n",
    "df = df[\"headline\"]\n",
    "df.head()"
   ]
  },
  {
   "cell_type": "code",
   "execution_count": 8,
   "metadata": {},
   "outputs": [
    {
     "name": "stdout",
     "output_type": "stream",
     "text": [
      "original shape:  (4846,)\n",
      "after drop duplicates shape:  (4838,)\n",
      "after drop null shape:  (4838,)\n"
     ]
    }
   ],
   "source": [
    "print(\"original shape: \", df.shape)\n",
    "df = df.drop_duplicates()\n",
    "print(\"after drop duplicates shape: \", df.shape)\n",
    "dd_dn = df.dropna()\n",
    "print(\"after drop null shape: \", df.shape)"
   ]
  },
  {
   "cell_type": "code",
   "execution_count": 9,
   "metadata": {},
   "outputs": [
    {
     "data": {
      "text/plain": [
       "0"
      ]
     },
     "execution_count": 9,
     "metadata": {},
     "output_type": "execute_result"
    }
   ],
   "source": [
    "df.isnull().sum()"
   ]
  },
  {
   "cell_type": "code",
   "execution_count": 10,
   "metadata": {},
   "outputs": [
    {
     "name": "stdout",
     "output_type": "stream",
     "text": [
      "news headline example:  According to Gran , the company has no plans to move all production to Russia , although that is where the company is growing .\n"
     ]
    }
   ],
   "source": [
    "print(\"news headline example: \", df[0])"
   ]
  },
  {
   "cell_type": "markdown",
   "metadata": {},
   "source": [
    "## Stanford NER"
   ]
  },
  {
   "cell_type": "code",
   "execution_count": 12,
   "metadata": {},
   "outputs": [
    {
     "name": "stderr",
     "output_type": "stream",
     "text": [
      "[nltk_data] Downloading package punkt to\n",
      "[nltk_data]     C:\\Users\\stefa\\AppData\\Roaming\\nltk_data...\n",
      "[nltk_data]   Package punkt is already up-to-date!\n"
     ]
    },
    {
     "data": {
      "text/plain": [
       "[('According', 'O'),\n",
       " ('to', 'O'),\n",
       " ('Gran', 'ORGANIZATION'),\n",
       " (',', 'O'),\n",
       " ('the', 'O'),\n",
       " ('company', 'O'),\n",
       " ('has', 'O'),\n",
       " ('no', 'O'),\n",
       " ('plans', 'O'),\n",
       " ('to', 'O'),\n",
       " ('move', 'O'),\n",
       " ('all', 'O'),\n",
       " ('production', 'O'),\n",
       " ('to', 'O'),\n",
       " ('Russia', 'LOCATION'),\n",
       " (',', 'O'),\n",
       " ('although', 'O'),\n",
       " ('that', 'O'),\n",
       " ('is', 'O'),\n",
       " ('where', 'O'),\n",
       " ('the', 'O'),\n",
       " ('company', 'O'),\n",
       " ('is', 'O'),\n",
       " ('growing', 'O'),\n",
       " ('.', 'O')]"
      ]
     },
     "execution_count": 12,
     "metadata": {},
     "output_type": "execute_result"
    }
   ],
   "source": [
    "java_path = \"C:/Program Files/Java/jre-1.8/bin/java.exe\"\n",
    "os.environ['JAVAHOME'] = java_path\n",
    "\n",
    "model = \"C:/Users/stefa/Desktop/financial-news-analysis/stanford-ner/classifiers/english.muc.7class.distsim.crf.ser.gz\"\n",
    "jar = \"C:/Users/stefa/Desktop/financial-news-analysis/stanford-ner/stanford-ner-4.2.0.jar\"\n",
    "\n",
    "ner_tagger = StanfordNERTagger(model, jar, encoding=\"utf-8\")\n",
    "\n",
    "testo = \"According to Gran , the company has no plans to move all production to Russia , although that is where the company is growing\"\n",
    "\n",
    "words = word_tokenize(testo)\n",
    "classified_words = ner_tagger.tag(words)\n",
    "classified_words"
   ]
  },
  {
   "cell_type": "code",
   "execution_count": 52,
   "metadata": {},
   "outputs": [
    {
     "data": {
      "text/html": [
       "<div>\n",
       "<style scoped>\n",
       "    .dataframe tbody tr th:only-of-type {\n",
       "        vertical-align: middle;\n",
       "    }\n",
       "\n",
       "    .dataframe tbody tr th {\n",
       "        vertical-align: top;\n",
       "    }\n",
       "\n",
       "    .dataframe thead th {\n",
       "        text-align: right;\n",
       "    }\n",
       "</style>\n",
       "<table border=\"1\" class=\"dataframe\">\n",
       "  <thead>\n",
       "    <tr style=\"text-align: right;\">\n",
       "      <th></th>\n",
       "      <th>headline</th>\n",
       "      <th>entity</th>\n",
       "      <th>tag</th>\n",
       "    </tr>\n",
       "  </thead>\n",
       "  <tbody>\n",
       "    <tr>\n",
       "      <th>0</th>\n",
       "      <td>According to Gran , the company has no plans t...</td>\n",
       "      <td>Gran</td>\n",
       "      <td>ORGANIZATION</td>\n",
       "    </tr>\n",
       "  </tbody>\n",
       "</table>\n",
       "</div>"
      ],
      "text/plain": [
       "                                            headline entity           tag\n",
       "0  According to Gran , the company has no plans t...   Gran  ORGANIZATION"
      ]
     },
     "execution_count": 52,
     "metadata": {},
     "output_type": "execute_result"
    }
   ],
   "source": [
    "df.head()"
   ]
  }
 ],
 "metadata": {
  "kernelspec": {
   "display_name": "Python 3",
   "language": "python",
   "name": "python3"
  },
  "language_info": {
   "codemirror_mode": {
    "name": "ipython",
    "version": 3
   },
   "file_extension": ".py",
   "mimetype": "text/x-python",
   "name": "python",
   "nbconvert_exporter": "python",
   "pygments_lexer": "ipython3",
   "version": "3.10.11"
  },
  "orig_nbformat": 4
 },
 "nbformat": 4,
 "nbformat_minor": 2
}
